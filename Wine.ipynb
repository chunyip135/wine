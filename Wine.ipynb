{
 "cells": [
  {
   "cell_type": "markdown",
   "metadata": {},
   "source": [
    "# Import modules"
   ]
  },
  {
   "cell_type": "code",
   "execution_count": 22,
   "metadata": {},
   "outputs": [],
   "source": [
    "import numpy as np\n",
    "import pandas as pd\n",
    "import matplotlib.pyplot as plt\n",
    "import seaborn as sns"
   ]
  },
  {
   "cell_type": "markdown",
   "metadata": {},
   "source": [
    "# Import wine datasets from Scikit-learn built-in datasets"
   ]
  },
  {
   "cell_type": "code",
   "execution_count": 23,
   "metadata": {},
   "outputs": [],
   "source": [
    "from sklearn import datasets\n",
    "X,y = datasets.load_wine(return_X_y=True)"
   ]
  },
  {
   "cell_type": "code",
   "execution_count": 24,
   "metadata": {},
   "outputs": [],
   "source": [
    "# split data\n",
    "from sklearn.model_selection import train_test_split\n",
    "\n",
    "seed = 123\n",
    "\n",
    "X_train, X_test, y_train, y_test = train_test_split(X,y,test_size = 0.3, stratify = y, random_state = seed)"
   ]
  },
  {
   "cell_type": "markdown",
   "metadata": {},
   "source": [
    "# KNN"
   ]
  },
  {
   "cell_type": "code",
   "execution_count": 25,
   "metadata": {},
   "outputs": [
    {
     "name": "stdout",
     "output_type": "stream",
     "text": [
      "Best params : {'knn__n_neighbors': 6}\n",
      "Best score : 0.968\n",
      "KNN accuracy : 0.93\n"
     ]
    }
   ],
   "source": [
    "from sklearn.pipeline import Pipeline\n",
    "from sklearn.preprocessing import StandardScaler\n",
    "from sklearn.neighbors import KNeighborsClassifier as KNN\n",
    "from sklearn.metrics import accuracy_score\n",
    "from sklearn.model_selection import GridSearchCV\n",
    "\n",
    "# use pipeline\n",
    "steps = [('scaler', StandardScaler()), ('knn',KNN() )]\n",
    "pipeline = Pipeline(steps)\n",
    "\n",
    "# use GridSearchCV\n",
    "params_knn = {'knn__n_neighbors' : np.arange(1,20)}\n",
    "cv = GridSearchCV(pipeline, param_grid=params_knn, cv=5)\n",
    "\n",
    "cv.fit(X_train,y_train)\n",
    "print('Best params : {}'.format(cv.best_params_))\n",
    "print('Best score : {}'.format(cv.best_score_))\n",
    "\n",
    "y_pred = cv.predict(X_test)\n",
    "print('KNN accuracy : {:.2f}'.format(accuracy_score(y_test, y_pred)))"
   ]
  },
  {
   "cell_type": "markdown",
   "metadata": {},
   "source": [
    "# Decision Tree\n",
    "Find the best parameters ( max_depth, max_features )"
   ]
  },
  {
   "cell_type": "code",
   "execution_count": 26,
   "metadata": {},
   "outputs": [
    {
     "data": {
      "image/png": "[encoded data removed]",
      "text/plain": [
       "<Figure size 432x288 with 1 Axes>"
      ]
     },
     "metadata": {
      "needs_background": "light"
     },
     "output_type": "display_data"
    },
    {
     "data": {
      "image/png": "[encoded data removed]",
      "text/plain": [
       "<Figure size 432x288 with 1 Axes>"
      ]
     },
     "metadata": {
      "needs_background": "light"
     },
     "output_type": "display_data"
    }
   ],
   "source": [
    "from sklearn.tree import DecisionTreeClassifier\n",
    "\n",
    "\n",
    "for i in range(1,20):\n",
    "    model = DecisionTreeClassifier(max_depth = i)\n",
    "    model.fit(X_train,y_train)\n",
    "    y_pred = model.predict(X_test)\n",
    "    score = accuracy_score(y_test, y_pred)\n",
    "    plt.bar(i,score, color = 'b')\n",
    "    plt.title('max_depth')\n",
    "    plt.xlabel('param\\'s value')\n",
    "    plt.ylabel('accuracy')\n",
    "    plt.yticks(np.arange(0, 1.05,0.05))\n",
    "plt.show()\n",
    "\n",
    "for i in range(1,14):\n",
    "    model = DecisionTreeClassifier(max_features= i)\n",
    "    model.fit(X_train,y_train)\n",
    "    score = accuracy_score(y_test, y_pred)\n",
    "    plt.bar(i,score, color = 'b')\n",
    "    plt.title('max_features')\n",
    "    plt.xlabel('param\\'s value')\n",
    "    plt.ylabel('accuracy')\n",
    "    plt.yticks(np.arange(0, 1.05,0.05))\n",
    "plt.show()"
   ]
  },
  {
   "cell_type": "code",
   "execution_count": 27,
   "metadata": {},
   "outputs": [
    {
     "name": "stdout",
     "output_type": "stream",
     "text": [
      "Decision Tree accuracy : 0.89\n"
     ]
    }
   ],
   "source": [
    "from sklearn.tree import DecisionTreeClassifier\n",
    "\n",
    "\n",
    "model = DecisionTreeClassifier(max_depth = 8,max_features=13, random_state = seed)\n",
    "model.fit(X_train,y_train)\n",
    "y_pred = model.predict(X_test)\n",
    "print('Decision Tree accuracy : {:.2f}'.format(accuracy_score(y_test, y_pred)))"
   ]
  },
  {
   "cell_type": "markdown",
   "metadata": {},
   "source": [
    "Use RandomizedSearchCV for Decision Tree"
   ]
  },
  {
   "cell_type": "code",
   "execution_count": 28,
   "metadata": {},
   "outputs": [
    {
     "name": "stdout",
     "output_type": "stream",
     "text": [
      "{'max_features': 10, 'max_depth': 6}\n",
      "0.8943333333333333\n",
      "Decision Tree : 0.89\n"
     ]
    }
   ],
   "source": [
    "from sklearn.model_selection import RandomizedSearchCV\n",
    "\n",
    "params = {'max_depth':[4,6,8,10], 'max_features':[8,10,12]}\n",
    "model = DecisionTreeClassifier(random_state = seed)\n",
    "rs = RandomizedSearchCV(model, param_distributions=params, cv=5,random_state = seed)\n",
    "\n",
    "rs.fit(X_train,y_train)\n",
    "print(rs.best_params_)\n",
    "print(rs.best_score_)\n",
    "\n",
    "y_pred = rs.predict(X_test)\n",
    "print('Decision Tree : {:.2f}'.format(accuracy_score(y_test, y_pred)))"
   ]
  },
  {
   "cell_type": "markdown",
   "metadata": {},
   "source": [
    "# RandomForest"
   ]
  },
  {
   "cell_type": "code",
   "execution_count": 29,
   "metadata": {},
   "outputs": [
    {
     "name": "stdout",
     "output_type": "stream",
     "text": [
      "Random forest : 0.98\n"
     ]
    }
   ],
   "source": [
    "from sklearn.ensemble import RandomForestClassifier\n",
    "\n",
    "rf = RandomForestClassifier(n_estimators=300,random_state=seed)\n",
    "rf.fit(X_train,y_train)\n",
    "\n",
    "y_pred = rf.predict(X_test)\n",
    "print('Random forest : {:.2f}'.format(accuracy_score(y_test, y_pred)))"
   ]
  },
  {
   "cell_type": "markdown",
   "metadata": {},
   "source": [
    "# Adaboost"
   ]
  },
  {
   "cell_type": "code",
   "execution_count": 30,
   "metadata": {},
   "outputs": [
    {
     "name": "stdout",
     "output_type": "stream",
     "text": [
      "AdaBoost : 0.94\n"
     ]
    }
   ],
   "source": [
    "from sklearn.ensemble import AdaBoostClassifier\n",
    "\n",
    "dt = DecisionTreeClassifier(max_depth = 2,random_state = seed)\n",
    "\n",
    "# adaboost\n",
    "model = AdaBoostClassifier(base_estimator=dt, n_estimators=300, random_state = seed)\n",
    "model.fit(X_train, y_train)\n",
    "\n",
    "y_pred = model.predict(X_test)\n",
    "print('AdaBoost : {:.2f}'.format(accuracy_score(y_test, y_pred)))"
   ]
  },
  {
   "cell_type": "markdown",
   "metadata": {},
   "source": [
    "# Gradient boosting"
   ]
  },
  {
   "cell_type": "code",
   "execution_count": 31,
   "metadata": {},
   "outputs": [
    {
     "name": "stdout",
     "output_type": "stream",
     "text": [
      "Gradient boosting : 0.98\n"
     ]
    }
   ],
   "source": [
    "from sklearn.ensemble import GradientBoostingClassifier\n",
    "\n",
    "gb = GradientBoostingClassifier(n_estimators=300, max_depth=2, random_state = seed)\n",
    "\n",
    "gb.fit(X_train, y_train)\n",
    "\n",
    "y_pred = gb.predict(X_test)\n",
    "print('Gradient boosting : {:.2f}'.format(accuracy_score(y_test, y_pred)))"
   ]
  },
  {
   "cell_type": "markdown",
   "metadata": {},
   "source": [
    "# Voting Classifier ( finalized model )"
   ]
  },
  {
   "cell_type": "code",
   "execution_count": 32,
   "metadata": {
    "scrolled": true
   },
   "outputs": [
    {
     "name": "stdout",
     "output_type": "stream",
     "text": [
      "KNN : 0.926\n",
      "Random forest : 0.981\n",
      "Adaboost : 0.944\n",
      "Gradient Boosting : 0.981\n",
      "Voting Classifiers accuracy : 0.98\n",
      "[[18  0  0]\n",
      " [ 1 20  0]\n",
      " [ 0  0 15]]\n",
      "              precision    recall  f1-score   support\n",
      "\n",
      "           0       0.95      1.00      0.97        18\n",
      "           1       1.00      0.95      0.98        21\n",
      "           2       1.00      1.00      1.00        15\n",
      "\n",
      "    accuracy                           0.98        54\n",
      "   macro avg       0.98      0.98      0.98        54\n",
      "weighted avg       0.98      0.98      0.98        54\n",
      "\n"
     ]
    }
   ],
   "source": [
    "# Using Voting Classifier\n",
    "from sklearn.metrics import confusion_matrix, classification_report\n",
    "\n",
    "steps = [('scaler', StandardScaler()), ('knn',KNN(n_neighbors=6) )]\n",
    "pipeline = Pipeline(steps)\n",
    "\n",
    "rf = RandomForestClassifier(n_estimators=300,random_state=seed)\n",
    "ab = AdaBoostClassifier(base_estimator=dt, n_estimators=300, random_state = seed)\n",
    "gb = GradientBoostingClassifier(n_estimators=300, max_depth=2, random_state = seed)\n",
    "\n",
    "classifiers = [('KNN', pipeline), ('Random forest', rf), ('Adaboost',ab),('Gradient Boosting', gb)]\n",
    "\n",
    "for clf_name, clf in classifiers:\n",
    "    clf.fit(X_train, y_train)\n",
    "    y_pred = clf.predict(X_test)\n",
    "    accuracy = accuracy_score(y_test, y_pred)\n",
    "    print('{:s} : {:.3f}'.format(clf_name, accuracy))\n",
    "    \n",
    "from sklearn.ensemble import VotingClassifier\n",
    "\n",
    "vc = VotingClassifier(estimators=classifiers)\n",
    "vc.fit(X_train, y_train)\n",
    "\n",
    "y_pred = vc.predict(X_test)\n",
    "print('Voting Classifiers accuracy : {:.2f}'.format(accuracy_score(y_test, y_pred)))\n",
    "print(confusion_matrix(y_test, y_pred))\n",
    "print(classification_report(y_test, y_pred))\n"
   ]
  },
  {
   "cell_type": "markdown",
   "metadata": {},
   "source": [
    "# Save model"
   ]
  },
  {
   "cell_type": "code",
   "execution_count": 33,
   "metadata": {},
   "outputs": [],
   "source": [
    "'''\n",
    "import pickle\n",
    "filename = 'wine_finalized_model.sav'\n",
    "pickle.dump(vc, open(filename, 'wb'))\n",
    "'''"
   ]
  },
  {
   "cell_type": "markdown",
   "metadata": {},
   "source": [
    "# Load model and perform prediction"
   ]
  },
  {
   "cell_type": "code",
   "execution_count": 34,
   "metadata": {},
   "outputs": [],
   "source": [
    "def wine_model(filename, file):\n",
    "    '''load model from filename and predict file.'''\n",
    "    loaded_model = pickle.load(open(filename, 'rb'))\n",
    "    y_pred = loaded_model.predict(file)\n",
    "    return y_pred"
   ]
  }
 ],
 "metadata": {
  "kernelspec": {
   "display_name": "Python 3",
   "language": "python",
   "name": "python3"
  },
  "language_info": {
   "codemirror_mode": {
    "name": "ipython",
    "version": 3
   },
   "file_extension": ".py",
   "mimetype": "text/x-python",
   "name": "python",
   "nbconvert_exporter": "python",
   "pygments_lexer": "ipython3",
   "version": "3.7.6"
  }
 },
 "nbformat": 4,
 "nbformat_minor": 4
}
